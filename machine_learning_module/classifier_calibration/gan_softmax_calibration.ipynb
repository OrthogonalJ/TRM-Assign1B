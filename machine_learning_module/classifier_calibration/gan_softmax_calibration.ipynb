{
 "cells": [
  {
   "cell_type": "markdown",
   "metadata": {
    "colab_type": "text",
    "id": "bpAfASzjZqS_"
   },
   "source": [
    "# Helper Code (skip this section to see results)"
   ]
  },
  {
   "cell_type": "code",
   "execution_count": 2,
   "metadata": {
    "colab": {
     "base_uri": "https://localhost:8080/",
     "height": 71
    },
    "colab_type": "code",
    "id": "kN00fbFKsbB8",
    "outputId": "d55d576c-d270-47b9-a939-fab900f8016b"
   },
   "outputs": [
    {
     "name": "stderr",
     "output_type": "stream",
     "text": [
      "/usr/local/lib/python3.6/dist-packages/statsmodels/tools/_testing.py:19: FutureWarning: pandas.util.testing is deprecated. Use the functions in the public API at pandas.testing instead.\n",
      "  import pandas.util.testing as tm\n"
     ]
    }
   ],
   "source": [
    "import itertools\n",
    "import random\n",
    "\n",
    "import tensorflow as tf\n",
    "from tensorflow import keras\n",
    "from tensorflow.keras import layers, losses, optimizers\n",
    "from tensorflow_probability import distributions as tfd\n",
    "import numpy as np\n",
    "from matplotlib import pyplot as plt\n",
    "import seaborn as sns\n",
    "import pandas as pd\n",
    "from tqdm import tqdm"
   ]
  },
  {
   "cell_type": "code",
   "execution_count": 3,
   "metadata": {
    "colab": {},
    "colab_type": "code",
    "id": "iODmhHc4sbCB"
   },
   "outputs": [],
   "source": [
    "SEED = 42\n",
    "random.seed(SEED)\n",
    "np.random.seed(SEED)\n",
    "tf.random.set_seed(SEED)"
   ]
  },
  {
   "cell_type": "code",
   "execution_count": 4,
   "metadata": {
    "colab": {},
    "colab_type": "code",
    "id": "CYPtBufjsbCE"
   },
   "outputs": [],
   "source": [
    "DATA_SHAPE = [2]\n",
    "NOISE_DIMS = 100\n",
    "LEARNING_RATE = 1e-4\n",
    "BATCH_SIZE = 128"
   ]
  },
  {
   "cell_type": "code",
   "execution_count": 5,
   "metadata": {
    "colab": {},
    "colab_type": "code",
    "id": "932lkJENsbCH"
   },
   "outputs": [],
   "source": [
    "def make_classifier(data_shape, output_size):\n",
    "    return keras.Sequential([\n",
    "        layers.Input(shape=data_shape, dtype='float32'),\n",
    "        layers.Dense(500, activation='relu'),\n",
    "        layers.Dense(500, activation='relu'),\n",
    "        layers.Dense(output_size)\n",
    "    ])"
   ]
  },
  {
   "cell_type": "code",
   "execution_count": 6,
   "metadata": {
    "colab": {},
    "colab_type": "code",
    "id": "MznEG1SKsbCL"
   },
   "outputs": [],
   "source": [
    "def make_discriminator(data_shape):\n",
    "    return keras.Sequential([\n",
    "        layers.Input(shape=data_shape, dtype='float32'),\n",
    "        layers.Dense(500, activation='relu'),\n",
    "        layers.Dense(500, activation='relu'),\n",
    "        layers.Dense(1)\n",
    "    ])"
   ]
  },
  {
   "cell_type": "code",
   "execution_count": 7,
   "metadata": {
    "colab": {},
    "colab_type": "code",
    "id": "A0AuwDVHsbCO"
   },
   "outputs": [],
   "source": [
    "def make_generator(data_shape, noise_dims):\n",
    "    output_flat_size = tf.reduce_prod(data_shape)\n",
    "    return keras.Sequential([\n",
    "        layers.Input(shape=(noise_dims,), dtype='float32'),\n",
    "        layers.Dense(500, activation='relu'),\n",
    "        layers.Dense(500, activation='relu'),\n",
    "        layers.Dense(output_flat_size),\n",
    "        layers.Reshape(data_shape)\n",
    "    ])"
   ]
  },
  {
   "cell_type": "code",
   "execution_count": 8,
   "metadata": {
    "colab": {},
    "colab_type": "code",
    "id": "jV_w7fZSsbCR"
   },
   "outputs": [],
   "source": [
    "def discriminator_loss(discriminator, real_data, fake_data):\n",
    "    real_scores = discriminator(real_data)\n",
    "    fake_scores = discriminator(fake_data)\n",
    "    \n",
    "    cross_entropy = losses.BinaryCrossentropy(from_logits=True)\n",
    "    real_loss = cross_entropy(tf.ones_like(real_scores), real_scores)\n",
    "    fake_loss = cross_entropy(tf.zeros_like(fake_scores), fake_scores)\n",
    "    return real_loss + fake_loss\n",
    "\n",
    "\n",
    "def generator_loss(discriminator, classifier, fake_data, beta):\n",
    "    \n",
    "    kl = uniform_prior_to_classifier_kl(classifier, fake_data)\n",
    "    kl = tf.reduce_mean(kl)\n",
    "    \n",
    "    cross_entropy = losses.BinaryCrossentropy(from_logits=True)\n",
    "    fake_scores = discriminator(fake_data)\n",
    "    gan_loss = cross_entropy(tf.ones_like(fake_scores), fake_scores)\n",
    "    return gan_loss - (beta * kl)\n",
    "\n",
    "\n",
    "def uniform_prior_to_classifier_kl(classifier, fake_data):\n",
    "    classifier_probs = tf.nn.softmax(classifier(fake_data))\n",
    "    \n",
    "    num_classes = classifier_probs.get_shape().as_list()[-1]\n",
    "    uniform_probs = tf.fill(classifier_probs.shape, 1.0/float(num_classes))\n",
    "    \n",
    "    kl = losses.kullback_leibler_divergence(uniform_probs, classifier_probs)\n",
    "    return kl\n",
    "\n",
    "\n",
    "def classifier_loss(classifier, real_data, real_labels, fake_data, beta):\n",
    "    kl = tf.reduce_mean(uniform_prior_to_classifier_kl(classifier, fake_data))\n",
    "    \n",
    "    preds = classifier(real_data)\n",
    "    cross_entropy = losses.CategoricalCrossentropy(from_logits=True)\n",
    "    classification_loss = cross_entropy(real_labels, preds)\n",
    "    \n",
    "    return classification_loss - (beta * kl)\n",
    "\n",
    "\n",
    "def grads_and_vars(tape, target, variables):\n",
    "    grads = tape.gradient(target, variables)\n",
    "    return zip(grads, variables)\n",
    "\n",
    "\n",
    "@tf.function\n",
    "def train_step(classifier, generator, discriminator, \n",
    "               real_data, real_labels, \n",
    "               d_optimizer, g_optimizer, c_optimizer,\n",
    "               noise_dims, beta):\n",
    "    batch_size = real_data.get_shape().as_list()[0]\n",
    "    noise_shape = [batch_size, noise_dims]\n",
    "    \n",
    "    with tf.GradientTape() as d_tape, tf.GradientTape() as g_tape, \\\n",
    "                tf.GradientTape() as c_tape:\n",
    "        fake_data = generator(tf.random.normal(shape=noise_shape))\n",
    "        d_loss = discriminator_loss(discriminator, real_data, fake_data)\n",
    "        \n",
    "        fake_data = generator(tf.random.normal(shape=noise_shape))\n",
    "        g_loss = generator_loss(discriminator, classifier, fake_data, beta)\n",
    "        \n",
    "        fake_data = generator(tf.random.normal(shape=noise_shape))\n",
    "        c_loss = classifier_loss(classifier, real_data, real_labels, \n",
    "                                 fake_data, beta)\n",
    "        \n",
    "    d_grads_and_vars = grads_and_vars(d_tape, d_loss, \n",
    "            discriminator.trainable_variables)\n",
    "    d_optimizer.apply_gradients(d_grads_and_vars)\n",
    "    \n",
    "    g_grads_and_vars = grads_and_vars(g_tape, g_loss, \n",
    "            generator.trainable_variables)\n",
    "    g_optimizer.apply_gradients(g_grads_and_vars)\n",
    "    \n",
    "    c_grads_and_vars = grads_and_vars(c_tape, c_loss, \n",
    "            classifier.trainable_variables)\n",
    "    c_optimizer.apply_gradients(c_grads_and_vars)\n",
    "    \n",
    "    return d_loss, g_loss, c_loss\n",
    "\n",
    "\n",
    "def train_model(classifier, generator, discriminator, \n",
    "               dataset, n_epoch, noise_dims, beta,\n",
    "               d_optimizer, g_optimizer, c_optimizer):\n",
    "    d_loss_metric = keras.metrics.Mean('discriminator_loss', dtype=tf.float32)\n",
    "    g_loss_metric = keras.metrics.Mean('generator_loss', dtype=tf.float32)\n",
    "    c_loss_metric = keras.metrics.Mean('classifier_loss', dtype=tf.float32)\n",
    "    \n",
    "    epoch_logs = []\n",
    "    for epoch_idx in tqdm(range(n_epoch)):\n",
    "        for batch_data, batch_labels in dataset:\n",
    "            d_loss, g_loss, c_loss = train_step(\n",
    "                classifier, generator, discriminator,\n",
    "                batch_data, batch_labels,\n",
    "                d_optimizer, g_optimizer, c_optimizer,\n",
    "                noise_dims, beta\n",
    "            )\n",
    "            \n",
    "            d_loss_metric(d_loss)\n",
    "            g_loss_metric(g_loss)\n",
    "            c_loss_metric(c_loss)\n",
    "        \n",
    "        epoch_log_row = {\n",
    "            'discriminator_loss': d_loss_metric.result().numpy(),\n",
    "            'generator_loss': g_loss_metric.result().numpy(),\n",
    "            'classifier_loss': c_loss_metric.result().numpy()\n",
    "        }\n",
    "        epoch_logs.append(epoch_log_row)\n",
    "    \n",
    "    return epoch_logs\n",
    "        "
   ]
  },
  {
   "cell_type": "code",
   "execution_count": 9,
   "metadata": {
    "colab": {},
    "colab_type": "code",
    "id": "6Ori5rzzsbCV"
   },
   "outputs": [],
   "source": [
    "def sample_2d_2_cluster_data(batch_size):\n",
    "    cluster_dists = [\n",
    "        tfd.MultivariateNormalDiag(loc=[-1.5, -1.5], scale_diag=[0.5, 0.5]),\n",
    "        tfd.MultivariateNormalDiag(loc=[1, 1], scale_diag=[0.5, 0.5])\n",
    "    ]\n",
    "    cluster_probs = [0.5, 0.5]\n",
    "    num_clusters = len(cluster_probs)\n",
    "    labels = np.random.choice(list(range(num_clusters)), size=batch_size, \n",
    "            p=cluster_probs)\n",
    "    \n",
    "    features = np.zeros(shape=(batch_size, 2), dtype=np.float32)\n",
    "    for i in range(batch_size):\n",
    "        features[i] = cluster_dists[labels[i]].sample().numpy()\n",
    "    \n",
    "    labels = tf.one_hot(labels, depth=num_clusters).numpy()\n",
    "    \n",
    "    return features, labels"
   ]
  },
  {
   "cell_type": "markdown",
   "metadata": {
    "colab_type": "text",
    "id": "gHc1qzDcZ13u"
   },
   "source": [
    "# Generate a toy 2D dataset with two classes \n",
    "(using a mixture of two normal  Gaussian distributions)"
   ]
  },
  {
   "cell_type": "code",
   "execution_count": 10,
   "metadata": {
    "colab": {},
    "colab_type": "code",
    "id": "wpZCr2qLsbCY"
   },
   "outputs": [],
   "source": [
    "train_features, train_labels = sample_2d_2_cluster_data(10000)"
   ]
  },
  {
   "cell_type": "code",
   "execution_count": 11,
   "metadata": {
    "colab": {
     "base_uri": "https://localhost:8080/",
     "height": 285
    },
    "colab_type": "code",
    "id": "myoOlwDFsbCa",
    "outputId": "834755ff-43c2-494b-ad1b-5cfdb61ebaf6"
   },
   "outputs": [
    {
     "data": {
      "text/plain": [
       "<matplotlib.collections.PathCollection at 0x7f57406d7eb8>"
      ]
     },
     "execution_count": 11,
     "metadata": {
      "tags": []
     },
     "output_type": "execute_result"
    },
    {
     "data": {
      "image/png": "[encoded data removed]",
      "text/plain": [
       "<Figure size 432x288 with 1 Axes>"
      ]
     },
     "metadata": {
      "needs_background": "light",
      "tags": []
     },
     "output_type": "display_data"
    }
   ],
   "source": [
    "plt.scatter(train_features[:, 0], train_features[:, 1], c=np.argmax(train_labels, axis=1))"
   ]
  },
  {
   "cell_type": "markdown",
   "metadata": {
    "colab_type": "text",
    "id": "SyqSJoBxaHY7"
   },
   "source": [
    "# Create model"
   ]
  },
  {
   "cell_type": "code",
   "execution_count": 12,
   "metadata": {
    "colab": {},
    "colab_type": "code",
    "id": "v-yYpQVysbCe"
   },
   "outputs": [],
   "source": [
    "train_size = train_features.shape[0]\n",
    "train_dataset = tf.data.Dataset \\\n",
    "    .from_tensor_slices((train_features, train_labels)) \\\n",
    "    .shuffle(train_size) \\\n",
    "    .batch(BATCH_SIZE) \\\n",
    "    .prefetch(1)"
   ]
  },
  {
   "cell_type": "code",
   "execution_count": 13,
   "metadata": {
    "colab": {},
    "colab_type": "code",
    "id": "6ExHYfdysbCh"
   },
   "outputs": [],
   "source": [
    "g_optimizer = optimizers.Adam(learning_rate=LEARNING_RATE)\n",
    "d_optimizer = optimizers.Adam(learning_rate=LEARNING_RATE)\n",
    "c_optimizer = optimizers.Adam(learning_rate=LEARNING_RATE)"
   ]
  },
  {
   "cell_type": "code",
   "execution_count": 14,
   "metadata": {
    "colab": {},
    "colab_type": "code",
    "id": "07Z_eGpesbCk"
   },
   "outputs": [],
   "source": [
    "classifier = make_classifier(DATA_SHAPE, 2)\n",
    "discriminator = make_discriminator(DATA_SHAPE)\n",
    "generator = make_generator(DATA_SHAPE, NOISE_DIMS)"
   ]
  },
  {
   "cell_type": "code",
   "execution_count": 15,
   "metadata": {
    "colab": {
     "base_uri": "https://localhost:8080/",
     "height": 34
    },
    "colab_type": "code",
    "id": "5VMrIywSsbCm",
    "outputId": "bd0d9b8d-fba0-4121-e907-947239f6b017",
    "scrolled": true,
    "tags": []
   },
   "outputs": [
    {
     "name": "stderr",
     "output_type": "stream",
     "text": [
      "100%|██████████| 100/100 [01:43<00:00,  1.03s/it]\n"
     ]
    }
   ],
   "source": [
    "epoch_logs = train_model(classifier, generator, discriminator, \n",
    "           train_dataset, n_epoch=100, noise_dims=NOISE_DIMS,\n",
    "           beta=1.0, d_optimizer=d_optimizer, g_optimizer=g_optimizer,\n",
    "           c_optimizer=c_optimizer)"
   ]
  },
  {
   "cell_type": "markdown",
   "metadata": {
    "colab_type": "text",
    "id": "XPPaNLFfYjPF"
   },
   "source": [
    "# Example of fake 'out-of-distribution' data sampled from the learned generator\n",
    "\n",
    "Blue points are real data and orange are points created by the generator"
   ]
  },
  {
   "cell_type": "code",
   "execution_count": 16,
   "metadata": {
    "colab": {},
    "colab_type": "code",
    "id": "Dc9UpkeZsbCr"
   },
   "outputs": [],
   "source": [
    "fake_data = generator(tf.random.normal(shape=[1000, NOISE_DIMS])).numpy()"
   ]
  },
  {
   "cell_type": "code",
   "execution_count": 17,
   "metadata": {
    "colab": {
     "base_uri": "https://localhost:8080/",
     "height": 285
    },
    "colab_type": "code",
    "id": "5jJnC_vjsbCu",
    "outputId": "3f6fe104-1de2-4068-f37b-5f3d64ef2156"
   },
   "outputs": [
    {
     "data": {
      "text/plain": [
       "<matplotlib.collections.PathCollection at 0x7f56f0c3fa58>"
      ]
     },
     "execution_count": 17,
     "metadata": {
      "tags": []
     },
     "output_type": "execute_result"
    },
    {
     "data": {
      "image/png": "[encoded data removed]",
      "text/plain": [
       "<Figure size 432x288 with 1 Axes>"
      ]
     },
     "metadata": {
      "needs_background": "light",
      "tags": []
     },
     "output_type": "display_data"
    }
   ],
   "source": [
    "plt.scatter(train_features[:, 0], train_features[:, 1])\n",
    "plt.scatter(fake_data[:, 0], fake_data[:, 1])"
   ]
  },
  {
   "cell_type": "code",
   "execution_count": 18,
   "metadata": {
    "colab": {},
    "colab_type": "code",
    "id": "MrPCjWYWsbCx"
   },
   "outputs": [],
   "source": [
    "epoch_logs_df = pd.DataFrame(epoch_logs)"
   ]
  },
  {
   "cell_type": "markdown",
   "metadata": {
    "colab_type": "text",
    "id": "koTzwyKjYgCG"
   },
   "source": [
    "# Learning Curves"
   ]
  },
  {
   "cell_type": "markdown",
   "metadata": {
    "colab_type": "text",
    "id": "91d_RPmMY2yz"
   },
   "source": [
    "Discriminator Loss (y-axis) vs Training Iteration (x-axis)"
   ]
  },
  {
   "cell_type": "code",
   "execution_count": 19,
   "metadata": {
    "colab": {
     "base_uri": "https://localhost:8080/",
     "height": 284
    },
    "colab_type": "code",
    "id": "qa8MakFysbC0",
    "outputId": "479a7c29-1c10-4f0d-d9da-41bfa4eaf791"
   },
   "outputs": [
    {
     "data": {
      "text/plain": [
       "[<matplotlib.lines.Line2D at 0x7f56f0c279e8>]"
      ]
     },
     "execution_count": 19,
     "metadata": {
      "tags": []
     },
     "output_type": "execute_result"
    },
    {
     "data": {
      "image/png": "[encoded data removed]",
      "text/plain": [
       "<Figure size 432x288 with 1 Axes>"
      ]
     },
     "metadata": {
      "needs_background": "light",
      "tags": []
     },
     "output_type": "display_data"
    }
   ],
   "source": [
    "plt.plot(epoch_logs_df.discriminator_loss)"
   ]
  },
  {
   "cell_type": "markdown",
   "metadata": {
    "colab_type": "text",
    "id": "jKKEbUkuZBLK"
   },
   "source": [
    "Generator Loss (y-axis) vs Training Iteration (x-axis)"
   ]
  },
  {
   "cell_type": "code",
   "execution_count": 20,
   "metadata": {
    "colab": {
     "base_uri": "https://localhost:8080/",
     "height": 282
    },
    "colab_type": "code",
    "id": "8dxNf-xnsbDD",
    "outputId": "f7aa69a5-08fe-429d-e36d-20a5402554ac"
   },
   "outputs": [
    {
     "data": {
      "text/plain": [
       "[<matplotlib.lines.Line2D at 0x7f56f0b9a4e0>]"
      ]
     },
     "execution_count": 20,
     "metadata": {
      "tags": []
     },
     "output_type": "execute_result"
    },
    {
     "data": {
      "image/png": "[encoded data removed]",
      "text/plain": [
       "<Figure size 432x288 with 1 Axes>"
      ]
     },
     "metadata": {
      "needs_background": "light",
      "tags": []
     },
     "output_type": "display_data"
    }
   ],
   "source": [
    "plt.plot(epoch_logs_df.generator_loss)"
   ]
  },
  {
   "cell_type": "markdown",
   "metadata": {
    "colab_type": "text",
    "id": "3YeNJnWLZDM2"
   },
   "source": [
    "Classifier Loss (y-axis) vs Training Iteration (x-axis)"
   ]
  },
  {
   "cell_type": "code",
   "execution_count": 21,
   "metadata": {
    "colab": {
     "base_uri": "https://localhost:8080/",
     "height": 283
    },
    "colab_type": "code",
    "id": "vchgdnrssbDG",
    "outputId": "1b2cdda5-b424-425f-f4a6-601bef140141"
   },
   "outputs": [
    {
     "data": {
      "text/plain": [
       "[<matplotlib.lines.Line2D at 0x7f56f0b67f60>]"
      ]
     },
     "execution_count": 21,
     "metadata": {
      "tags": []
     },
     "output_type": "execute_result"
    },
    {
     "data": {
      "image/png": "[encoded data removed]",
      "text/plain": [
       "<Figure size 432x288 with 1 Axes>"
      ]
     },
     "metadata": {
      "needs_background": "light",
      "tags": []
     },
     "output_type": "display_data"
    }
   ],
   "source": [
    "plt.plot(epoch_logs_df.classifier_loss)"
   ]
  },
  {
   "cell_type": "markdown",
   "metadata": {
    "colab_type": "text",
    "id": "-LC0FNL2ZGd2"
   },
   "source": [
    "# Inspecting the classifier's entropy (uncertainty)"
   ]
  },
  {
   "cell_type": "code",
   "execution_count": 22,
   "metadata": {
    "colab": {},
    "colab_type": "code",
    "id": "P0bceV3_sbDI"
   },
   "outputs": [],
   "source": [
    "def discrete_entropy(logits):\n",
    "    probs = tf.math.softmax(logits)\n",
    "    log_probs = tf.math.log(probs)\n",
    "    return - tf.reduce_sum(probs * log_probs, axis=-1)"
   ]
  },
  {
   "cell_type": "code",
   "execution_count": 23,
   "metadata": {
    "colab": {},
    "colab_type": "code",
    "id": "_Yqf3wSjsbDK"
   },
   "outputs": [],
   "source": [
    "test_features, test_labels = sample_2d_2_cluster_data(1000)"
   ]
  },
  {
   "cell_type": "code",
   "execution_count": 24,
   "metadata": {
    "colab": {},
    "colab_type": "code",
    "id": "g7xvPLzhsbDM"
   },
   "outputs": [],
   "source": [
    "unif_feats = tfd.Uniform(low=[-5, -5], high=[5, 5]).sample(BATCH_SIZE).numpy()\n",
    "aug_test_feats = np.concatenate(\n",
    "        [test_features, unif_feats], axis=0)\n",
    "aug_test_labels = np.concatenate(\n",
    "    [\n",
    "        np.argmax(test_labels, axis=1),\n",
    "        np.full(BATCH_SIZE, -1)\n",
    "    ],\n",
    "    axis=0)\n",
    "aug_test_labels += 1"
   ]
  },
  {
   "cell_type": "code",
   "execution_count": 25,
   "metadata": {
    "colab": {},
    "colab_type": "code",
    "id": "vOh-40CXsbDN"
   },
   "outputs": [],
   "source": [
    "pred_logits = classifier(aug_test_feats).numpy()\n",
    "pred_entropys = discrete_entropy(pred_logits).numpy()\n",
    "pred_labels = np.argmax(pred_logits, axis=1)"
   ]
  },
  {
   "cell_type": "code",
   "execution_count": 27,
   "metadata": {
    "colab": {
     "base_uri": "https://localhost:8080/",
     "height": 296
    },
    "colab_type": "code",
    "id": "ILNmcyBUsbDR",
    "outputId": "91f2bf5f-3dd1-4bff-af41-b69eb664a4db",
    "tags": []
   },
   "outputs": [
    {
     "data": {
      "text/plain": [
       "<matplotlib.legend.Legend at 0x7f56f09375f8>"
      ]
     },
     "execution_count": 27,
     "metadata": {
      "tags": []
     },
     "output_type": "execute_result"
    },
    {
     "data": {
      "image/png": "[encoded data removed]",
      "text/plain": [
       "<Figure size 432x288 with 2 Axes>"
      ]
     },
     "metadata": {
      "needs_background": "light",
      "tags": []
     },
     "output_type": "display_data"
    }
   ],
   "source": [
    "pred_class_markers = ['s', 'o', '^']\n",
    "pred_class_marker_labels = {'s': 'pred-class1', 'o': 'pred-class2', '^': 'error'}\n",
    "pred_markers = np.asarray([pred_class_markers[l] for l in pred_labels])\n",
    "true_class_edge_colors = ['black', 'blue', 'red']\n",
    "true_class_edge_color_labels = {'black': 'true-fake', 'blue': 'true-class1', 'red': 'true-class2'}\n",
    "true_edge_colors = np.asarray([true_class_edge_colors[l] for l in aug_test_labels])\n",
    "attr_combos = itertools.product(pred_class_markers, true_class_edge_colors)\n",
    "#attr_combos = list(zip(pred_markers, true_edge_colors))\n",
    "for marker_symbol, edge_color in set(attr_combos):\n",
    "    mask = (pred_markers == marker_symbol) & (true_edge_colors == edge_color)\n",
    "    if np.sum(mask) > 0:\n",
    "      _label = f'{pred_class_marker_labels[marker_symbol]}_{true_class_edge_color_labels[edge_color]}'\n",
    "      plt.scatter(aug_test_feats[mask, 0], aug_test_feats[mask, 1], \n",
    "              c=pred_entropys[mask], marker=marker_symbol,\n",
    "              edgecolors=true_edge_colors, label=_label)\n",
    "color_bar = plt.colorbar()\n",
    "color_bar.set_label('Entropy')\n",
    "plt.xlabel('x1')\n",
    "plt.ylabel('x2')\n",
    "plt.legend(loc='best')"
   ]
  }
 ],
 "metadata": {
  "accelerator": "GPU",
  "colab": {
   "collapsed_sections": [],
   "name": "gan_softmax_calibration.ipynb",
   "provenance": []
  },
  "kernelspec": {
   "display_name": "Python 3",
   "language": "python",
   "name": "python3"
  },
  "language_info": {
   "codemirror_mode": {
    "name": "ipython",
    "version": 3
   },
   "file_extension": ".py",
   "mimetype": "text/x-python",
   "name": "python",
   "nbconvert_exporter": "python",
   "pygments_lexer": "ipython3",
   "version": "3.6.10"
  }
 },
 "nbformat": 4,
 "nbformat_minor": 1
}
